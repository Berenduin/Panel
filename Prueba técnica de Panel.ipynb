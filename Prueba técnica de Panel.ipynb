{
 "cells": [
  {
   "cell_type": "markdown",
   "metadata": {},
   "source": [
    "La prueba es la siguiente:\n",
    "    URL api: https://www.metaweather.com/api/\n",
    "\n",
    "La prueba consiste en realizar un TestCase que utilice invocaciones a servicios REST con la herramienta SoapUI.\n",
    "\n",
    "Se utilizan los 2 siguientes servicios (información en la URL indicada antes):\n",
    "\n",
    "- Location Search - ejecutaremos con parámetro de URL query pasándole el nombre de la ciudad a consultar. Se obtiene el ID necesario para ejecutar un servicio que nos de la información metereológica (\"woeid\").\n",
    "\n",
    "- Location - ejecutaremos con el identificador obtenido en el servicio anterior (\"woeid\") para consultar la información de la ciudad deseada. Se obtiene la información metereológica para los próximos 5 días.\n",
    "\n"
   ]
  },
  {
   "cell_type": "code",
   "execution_count": 1,
   "metadata": {},
   "outputs": [],
   "source": [
    "# libreriá para las consultas\n",
    "import requests"
   ]
  },
  {
   "cell_type": "code",
   "execution_count": 2,
   "metadata": {},
   "outputs": [],
   "source": [
    "# función para extraer el id de la ciudad\n",
    "def idCity(city):\n",
    "    \n",
    "    try:\n",
    "        # llamada a la api\n",
    "        r = requests.get('https://www.metaweather.com/api/location/search/', params={'query':city.lower()})\n",
    "\n",
    "        if 'woeid' in r.text:\n",
    "            # devuelve la id\n",
    "            return r.json()[0]['woeid']\n",
    "        else:\n",
    "            # devuelve el mensaje de error\n",
    "            return print(f'\\nLo sentimos {city} no es un lugar registrado')\n",
    "    \n",
    "    except Exception as error:\n",
    "        return print('\\nSe ha producido un error al llamar al servicio: ', error)"
   ]
  },
  {
   "cell_type": "markdown",
   "metadata": {},
   "source": [
    "- _En esta primera función pasamos como parámetro el nombre de la ciudad._ \n",
    "- _A continuación encontramos un bloque `try - excetp` para controlar los errores que pudiera generar la GETrequest a la api._ \n",
    "- _Dentro del bloque `try`, en la GETrequest pasamos la dirección de la api y el parámetro forzado en minúsculas. Seguidamente le preguntamos a la respuesta que nos devuelve si el `string` contiene la palabra `'woeid'`. Para el valor `True` devuelve la id que contiene, para el valor `False` quiere decir que no contiene la ciudad pedida y devuelve un mensaje de error._"
   ]
  },
  {
   "cell_type": "code",
   "execution_count": 3,
   "metadata": {},
   "outputs": [
    {
     "data": {
      "text/plain": [
       "638242"
      ]
     },
     "execution_count": 3,
     "metadata": {},
     "output_type": "execute_result"
    }
   ],
   "source": [
    "idCity('Berlin')"
   ]
  },
  {
   "cell_type": "code",
   "execution_count": 4,
   "metadata": {},
   "outputs": [
    {
     "name": "stdout",
     "output_type": "stream",
     "text": [
      "\n",
      "Lo sentimos Gijon no es un lugar registrado\n"
     ]
    }
   ],
   "source": [
    "idCity('Gijon')"
   ]
  },
  {
   "cell_type": "code",
   "execution_count": 5,
   "metadata": {},
   "outputs": [],
   "source": [
    "# función para extraer la predicción de un día   \n",
    "def location(city):\n",
    "    # extraemos la id\n",
    "    woeid = idCity(city)\n",
    "    \n",
    "    # si woeid es un número\n",
    "    if type(woeid) == int: \n",
    "        try:\n",
    "            # llamada a la api\n",
    "            r = requests.get('https://www.metaweather.com/api/location/'+ str(woeid))\n",
    "            return r.json()\n",
    "\n",
    "        except Exception as error:\n",
    "            return print('\\nSe ha producido un error al llamar al servicio: ', error)\n",
    "    \n",
    "    # woeid no es número\n",
    "    else:\n",
    "        return woeid"
   ]
  },
  {
   "cell_type": "markdown",
   "metadata": {},
   "source": [
    "- _A la función `location` le pasamos el parámetro con el nombre de la ciudad para llamar a la función anterior `idCity()`_\n",
    "\n",
    "- _En el primer bloque `if - else` verificamos si la función ha devuelto un número. Para el caso `True` llamamos a la api concatenando la id, controlamos el posible error, y devolvemos la respuesta en forma de json . Para el caso `False` mostramos el mensaje de error que produce `idCity()`."
   ]
  },
  {
   "cell_type": "code",
   "execution_count": 6,
   "metadata": {},
   "outputs": [
    {
     "data": {
      "text/plain": [
       "{'consolidated_weather': [{'id': 4632576439353344,\n",
       "   'weather_state_name': 'Clear',\n",
       "   'weather_state_abbr': 'c',\n",
       "   'wind_direction_compass': 'SW',\n",
       "   'created': '2021-07-27T10:12:55.183842Z',\n",
       "   'applicable_date': '2021-07-27',\n",
       "   'min_temp': 18.835,\n",
       "   'max_temp': 33.144999999999996,\n",
       "   'the_temp': 29.985,\n",
       "   'wind_speed': 5.247488821689335,\n",
       "   'wind_direction': 218.52788702839086,\n",
       "   'air_pressure': 1014.0,\n",
       "   'humidity': 43,\n",
       "   'visibility': 14.321052553089954,\n",
       "   'predictability': 68},\n",
       "  {'id': 5423285220147200,\n",
       "   'weather_state_name': 'Clear',\n",
       "   'weather_state_abbr': 'c',\n",
       "   'wind_direction_compass': 'WSW',\n",
       "   'created': '2021-07-27T10:12:58.254064Z',\n",
       "   'applicable_date': '2021-07-28',\n",
       "   'min_temp': 20.86,\n",
       "   'max_temp': 35.11,\n",
       "   'the_temp': 33.66,\n",
       "   'wind_speed': 5.375084881794321,\n",
       "   'wind_direction': 236.87700576133412,\n",
       "   'air_pressure': 1011.5,\n",
       "   'humidity': 30,\n",
       "   'visibility': 14.58296051061799,\n",
       "   'predictability': 68},\n",
       "  {'id': 5214503336673280,\n",
       "   'weather_state_name': 'Clear',\n",
       "   'weather_state_abbr': 'c',\n",
       "   'wind_direction_compass': 'SW',\n",
       "   'created': '2021-07-27T10:13:01.275268Z',\n",
       "   'applicable_date': '2021-07-29',\n",
       "   'min_temp': 21.555,\n",
       "   'max_temp': 35.165000000000006,\n",
       "   'the_temp': 34.30500000000001,\n",
       "   'wind_speed': 6.375193453667912,\n",
       "   'wind_direction': 222.63916261992335,\n",
       "   'air_pressure': 1011.5,\n",
       "   'humidity': 28,\n",
       "   'visibility': 14.54350343991092,\n",
       "   'predictability': 68},\n",
       "  {'id': 6426785437712384,\n",
       "   'weather_state_name': 'Clear',\n",
       "   'weather_state_abbr': 'c',\n",
       "   'wind_direction_compass': 'WSW',\n",
       "   'created': '2021-07-27T10:13:04.467769Z',\n",
       "   'applicable_date': '2021-07-30',\n",
       "   'min_temp': 21.58,\n",
       "   'max_temp': 33.95,\n",
       "   'the_temp': 33.1,\n",
       "   'wind_speed': 6.1224359910363475,\n",
       "   'wind_direction': 241.03961791197645,\n",
       "   'air_pressure': 1011.5,\n",
       "   'humidity': 19,\n",
       "   'visibility': 14.72307971446751,\n",
       "   'predictability': 68},\n",
       "  {'id': 5652458199056384,\n",
       "   'weather_state_name': 'Light Cloud',\n",
       "   'weather_state_abbr': 'lc',\n",
       "   'wind_direction_compass': 'NW',\n",
       "   'created': '2021-07-27T10:13:07.265161Z',\n",
       "   'applicable_date': '2021-07-31',\n",
       "   'min_temp': 20.195,\n",
       "   'max_temp': 30.375,\n",
       "   'the_temp': 29.93,\n",
       "   'wind_speed': 5.525325554715131,\n",
       "   'wind_direction': 311.0167299684244,\n",
       "   'air_pressure': 1011.5,\n",
       "   'humidity': 29,\n",
       "   'visibility': 14.658457110474826,\n",
       "   'predictability': 70},\n",
       "  {'id': 5616771785555968,\n",
       "   'weather_state_name': 'Heavy Cloud',\n",
       "   'weather_state_abbr': 'hc',\n",
       "   'wind_direction_compass': 'NE',\n",
       "   'created': '2021-07-27T10:13:10.276804Z',\n",
       "   'applicable_date': '2021-08-01',\n",
       "   'min_temp': 15.7,\n",
       "   'max_temp': 29.82,\n",
       "   'the_temp': 26.95,\n",
       "   'wind_speed': 4.914159906148095,\n",
       "   'wind_direction': 52.5,\n",
       "   'air_pressure': 1014.0,\n",
       "   'humidity': 31,\n",
       "   'visibility': 9.999726596675416,\n",
       "   'predictability': 71}],\n",
       " 'time': '2021-07-27T13:18:53.800191+02:00',\n",
       " 'sun_rise': '2021-07-27T07:07:40.435454+02:00',\n",
       " 'sun_set': '2021-07-27T21:34:30.364437+02:00',\n",
       " 'timezone_name': 'LMT',\n",
       " 'parent': {'title': 'Spain',\n",
       "  'location_type': 'Country',\n",
       "  'woeid': 23424950,\n",
       "  'latt_long': '39.894890,-2.988310'},\n",
       " 'sources': [{'title': 'BBC',\n",
       "   'slug': 'bbc',\n",
       "   'url': 'http://www.bbc.co.uk/weather/',\n",
       "   'crawl_rate': 360},\n",
       "  {'title': 'Forecast.io',\n",
       "   'slug': 'forecast-io',\n",
       "   'url': 'http://forecast.io/',\n",
       "   'crawl_rate': 480},\n",
       "  {'title': 'HAMweather',\n",
       "   'slug': 'hamweather',\n",
       "   'url': 'http://www.hamweather.com/',\n",
       "   'crawl_rate': 360},\n",
       "  {'title': 'Met Office',\n",
       "   'slug': 'met-office',\n",
       "   'url': 'http://www.metoffice.gov.uk/',\n",
       "   'crawl_rate': 180},\n",
       "  {'title': 'OpenWeatherMap',\n",
       "   'slug': 'openweathermap',\n",
       "   'url': 'http://openweathermap.org/',\n",
       "   'crawl_rate': 360},\n",
       "  {'title': 'Weather Underground',\n",
       "   'slug': 'wunderground',\n",
       "   'url': 'https://www.wunderground.com/?apiref=fc30dc3cd224e19b',\n",
       "   'crawl_rate': 720},\n",
       "  {'title': 'World Weather Online',\n",
       "   'slug': 'world-weather-online',\n",
       "   'url': 'http://www.worldweatheronline.com/',\n",
       "   'crawl_rate': 360}],\n",
       " 'title': 'Madrid',\n",
       " 'location_type': 'City',\n",
       " 'woeid': 766273,\n",
       " 'latt_long': '40.420300,-3.705770',\n",
       " 'timezone': 'Europe/Madrid'}"
      ]
     },
     "execution_count": 6,
     "metadata": {},
     "output_type": "execute_result"
    }
   ],
   "source": [
    "# ejemplo de llamada correcta \n",
    "location(\"Madrid\")"
   ]
  },
  {
   "cell_type": "code",
   "execution_count": 7,
   "metadata": {},
   "outputs": [
    {
     "name": "stdout",
     "output_type": "stream",
     "text": [
      "\n",
      "Lo sentimos Gijon no es un lugar registrado\n"
     ]
    }
   ],
   "source": [
    "# Ciudad que no está presente en el registro\n",
    "location(\"Gijon\")"
   ]
  },
  {
   "cell_type": "code",
   "execution_count": 8,
   "metadata": {},
   "outputs": [
    {
     "name": "stdout",
     "output_type": "stream",
     "text": [
      "\n",
      "Lo sentimos Madridddd no es un lugar registrado\n"
     ]
    }
   ],
   "source": [
    "# Si nos equivocamos al escribir\n",
    "location(\"Madridddd\")"
   ]
  },
  {
   "cell_type": "markdown",
   "metadata": {},
   "source": [
    "---\n",
    "Usando la estructura TestCase SoapUI realizar un desarrollo que:\n",
    "\n",
    "- Dado un conjunto de ciudades definidas en una hoja de propiedades (step Properties), donde se puede tener de 1 a N propiedades (ejemplo: city1, city2, city3 ... cityN) y valores con el nombre de cada ciudad (ejemplo: London, Madrid, Barcelona, ... Caracas).\n",
    "- Iterar cada ciudad para invocar al servicio 1 para extraer su ID correspondiente e invocar nuevamente al servicio 2 con el ID obtenido en la respuesta del primer servicio para obtener la información metereológica.\n",
    "- El objetivo del test es pintar en consola al finalizar la ciudad y el día en el que se dará la mayor temperatura máxima.\n",
    "---\n"
   ]
  },
  {
   "cell_type": "code",
   "execution_count": 9,
   "metadata": {},
   "outputs": [
    {
     "data": {
      "text/html": [
       "<div>\n",
       "<style scoped>\n",
       "    .dataframe tbody tr th:only-of-type {\n",
       "        vertical-align: middle;\n",
       "    }\n",
       "\n",
       "    .dataframe tbody tr th {\n",
       "        vertical-align: top;\n",
       "    }\n",
       "\n",
       "    .dataframe thead th {\n",
       "        text-align: right;\n",
       "    }\n",
       "</style>\n",
       "<table border=\"1\" class=\"dataframe\">\n",
       "  <thead>\n",
       "    <tr style=\"text-align: right;\">\n",
       "      <th></th>\n",
       "      <th>Capitals</th>\n",
       "    </tr>\n",
       "  </thead>\n",
       "  <tbody>\n",
       "    <tr>\n",
       "      <th>0</th>\n",
       "      <td>Dublin</td>\n",
       "    </tr>\n",
       "    <tr>\n",
       "      <th>1</th>\n",
       "      <td>Berlin</td>\n",
       "    </tr>\n",
       "    <tr>\n",
       "      <th>2</th>\n",
       "      <td>Riga</td>\n",
       "    </tr>\n",
       "    <tr>\n",
       "      <th>3</th>\n",
       "      <td>Oslo</td>\n",
       "    </tr>\n",
       "    <tr>\n",
       "      <th>4</th>\n",
       "      <td>Moskow</td>\n",
       "    </tr>\n",
       "    <tr>\n",
       "      <th>5</th>\n",
       "      <td>Vienna</td>\n",
       "    </tr>\n",
       "    <tr>\n",
       "      <th>6</th>\n",
       "      <td>Madrid</td>\n",
       "    </tr>\n",
       "    <tr>\n",
       "      <th>7</th>\n",
       "      <td>Paris</td>\n",
       "    </tr>\n",
       "  </tbody>\n",
       "</table>\n",
       "</div>"
      ],
      "text/plain": [
       "  Capitals\n",
       "0   Dublin\n",
       "1   Berlin\n",
       "2     Riga\n",
       "3     Oslo\n",
       "4   Moskow\n",
       "5   Vienna\n",
       "6   Madrid\n",
       "7    Paris"
      ]
     },
     "execution_count": 9,
     "metadata": {},
     "output_type": "execute_result"
    }
   ],
   "source": [
    "import pandas as pd\n",
    "\n",
    "# dataframe de capitales\n",
    "df = pd.DataFrame({'Capitals': ['Dublin', 'Berlin', 'Riga', 'Oslo', 'Moskow', 'Vienna', 'Madrid', 'Paris']} )\n",
    "df"
   ]
  },
  {
   "cell_type": "code",
   "execution_count": 10,
   "metadata": {},
   "outputs": [
    {
     "name": "stdout",
     "output_type": "stream",
     "text": [
      "\n",
      "CIUDAD: Dublin\n",
      "Temperatura máxima: 27.165, registrada el 2021-08-01\n",
      "\n",
      "CIUDAD: Berlin\n",
      "Temperatura máxima: 23.685, registrada el 2021-08-01\n",
      "\n",
      "Lo sentimos Riga no es un lugar registrado\n",
      "\n",
      "CIUDAD: Oslo\n",
      "Temperatura máxima: 18.885, registrada el 2021-08-01\n",
      "\n",
      "Lo sentimos Moskow no es un lugar registrado\n",
      "\n",
      "CIUDAD: Vienna\n",
      "Temperatura máxima: 21.95, registrada el 2021-08-01\n",
      "\n",
      "CIUDAD: Madrid\n",
      "Temperatura máxima: 29.82, registrada el 2021-08-01\n",
      "\n",
      "CIUDAD: Paris\n",
      "Temperatura máxima: 22.745, registrada el 2021-08-01\n"
     ]
    }
   ],
   "source": [
    "# iteramos sobre el dataframe\n",
    "for row in df.itertuples():\n",
    "    \n",
    "    # llamada a la función location\n",
    "    pred = location(row[1])\n",
    "\n",
    "    if type(pred) == dict:\n",
    "        \n",
    "        # diccionario de temperaturas\n",
    "        temperatures = {item['applicable_date']:item['max_temp'] for item in pred['consolidated_weather']}\n",
    "        \n",
    "        maxtemp = temperatures[max(temperatures)]\n",
    "        maxdate = max(temperatures)\n",
    "\n",
    "        print(f'\\nCIUDAD: {row[1]}\\nTemperatura máxima: {round(maxtemp, 3)}, registrada el {maxdate}')\n",
    "    else:\n",
    "        continue"
   ]
  },
  {
   "cell_type": "markdown",
   "metadata": {},
   "source": [
    "- He creado un dataframe en pandas para recoger los nombres de las capitales. Sobre ese dataframe iteramos para extraer el nombre de la capital y pasarlo a la función `location`.\n",
    "- Como función devuelve un string o un diccionario. Si se trata de un diccionario acudimos a la lista que contiene `'consolidated_weather'` para recorrerla y crear un diccionario de fechas y tempreraturas. \n",
    "- Asignamos a `maxtemp` y a `maxdate` la temperatura y la fecha del día más caluroso del diccionario mediante el uso de la función incorporada `max()` y lo imprimimos por pantalla.\n",
    "---\n",
    "- Adicionalmente en la siguiente celda se ve como usar el dataframe para insertar la información tomada de la api."
   ]
  },
  {
   "cell_type": "code",
   "execution_count": 11,
   "metadata": {},
   "outputs": [
    {
     "name": "stdout",
     "output_type": "stream",
     "text": [
      "\n",
      "CIUDAD: Dublin\n",
      "Temperatura máxima: 27.165, registrada el 2021-08-01\n",
      "\n",
      "CIUDAD: Berlin\n",
      "Temperatura máxima: 23.685, registrada el 2021-08-01\n",
      "\n",
      "Lo sentimos Riga no es un lugar registrado\n",
      "\n",
      "CIUDAD: Oslo\n",
      "Temperatura máxima: 18.885, registrada el 2021-08-01\n",
      "\n",
      "Lo sentimos Moskow no es un lugar registrado\n",
      "\n",
      "CIUDAD: Vienna\n",
      "Temperatura máxima: 21.95, registrada el 2021-08-01\n",
      "\n",
      "CIUDAD: Madrid\n",
      "Temperatura máxima: 29.82, registrada el 2021-08-01\n",
      "\n",
      "CIUDAD: Paris\n",
      "Temperatura máxima: 22.745, registrada el 2021-08-01\n"
     ]
    },
    {
     "data": {
      "text/html": [
       "<div>\n",
       "<style scoped>\n",
       "    .dataframe tbody tr th:only-of-type {\n",
       "        vertical-align: middle;\n",
       "    }\n",
       "\n",
       "    .dataframe tbody tr th {\n",
       "        vertical-align: top;\n",
       "    }\n",
       "\n",
       "    .dataframe thead th {\n",
       "        text-align: right;\n",
       "    }\n",
       "</style>\n",
       "<table border=\"1\" class=\"dataframe\">\n",
       "  <thead>\n",
       "    <tr style=\"text-align: right;\">\n",
       "      <th></th>\n",
       "      <th>Capitals</th>\n",
       "      <th>temp_max</th>\n",
       "      <th>fecha_max</th>\n",
       "    </tr>\n",
       "  </thead>\n",
       "  <tbody>\n",
       "    <tr>\n",
       "      <th>0</th>\n",
       "      <td>Dublin</td>\n",
       "      <td>27.165</td>\n",
       "      <td>2021-08-01</td>\n",
       "    </tr>\n",
       "    <tr>\n",
       "      <th>1</th>\n",
       "      <td>Berlin</td>\n",
       "      <td>23.685</td>\n",
       "      <td>2021-08-01</td>\n",
       "    </tr>\n",
       "    <tr>\n",
       "      <th>2</th>\n",
       "      <td>Riga</td>\n",
       "      <td>error</td>\n",
       "      <td>error</td>\n",
       "    </tr>\n",
       "    <tr>\n",
       "      <th>3</th>\n",
       "      <td>Oslo</td>\n",
       "      <td>18.885</td>\n",
       "      <td>2021-08-01</td>\n",
       "    </tr>\n",
       "    <tr>\n",
       "      <th>4</th>\n",
       "      <td>Moskow</td>\n",
       "      <td>error</td>\n",
       "      <td>error</td>\n",
       "    </tr>\n",
       "    <tr>\n",
       "      <th>5</th>\n",
       "      <td>Vienna</td>\n",
       "      <td>21.950</td>\n",
       "      <td>2021-08-01</td>\n",
       "    </tr>\n",
       "    <tr>\n",
       "      <th>6</th>\n",
       "      <td>Madrid</td>\n",
       "      <td>29.820</td>\n",
       "      <td>2021-08-01</td>\n",
       "    </tr>\n",
       "    <tr>\n",
       "      <th>7</th>\n",
       "      <td>Paris</td>\n",
       "      <td>22.745</td>\n",
       "      <td>2021-08-01</td>\n",
       "    </tr>\n",
       "  </tbody>\n",
       "</table>\n",
       "</div>"
      ],
      "text/plain": [
       "  Capitals temp_max   fecha_max\n",
       "0   Dublin   27.165  2021-08-01\n",
       "1   Berlin   23.685  2021-08-01\n",
       "2     Riga    error       error\n",
       "3     Oslo   18.885  2021-08-01\n",
       "4   Moskow    error       error\n",
       "5   Vienna   21.950  2021-08-01\n",
       "6   Madrid   29.820  2021-08-01\n",
       "7    Paris   22.745  2021-08-01"
      ]
     },
     "execution_count": 11,
     "metadata": {},
     "output_type": "execute_result"
    }
   ],
   "source": [
    "# listas para recoger los datos\n",
    "list_temps, list_dates = [],[]\n",
    "\n",
    "# iteramos sobre el dataframe\n",
    "for row in df.itertuples():\n",
    "    \n",
    "    # llamamos a la función\n",
    "    pred = location(row[1])\n",
    "    \n",
    "    if type(pred) == dict:\n",
    "        # diccionario de temperaturas\n",
    "        temperatures = {item['applicable_date']:item['max_temp'] for item in pred['consolidated_weather']}\n",
    "        maxtemp = temperatures[max(temperatures)]\n",
    "        maxdate = max(temperatures)\n",
    "        \n",
    "        # añadimos los datos\n",
    "        list_temps.append(maxtemp)\n",
    "        list_dates.append(maxdate)\n",
    "\n",
    "        print(f'\\nCIUDAD: {row[1]}\\nTemperatura máxima: {round(maxtemp, 3)}, registrada el {maxdate}')\n",
    "    else:\n",
    "        # añadimos los errores\n",
    "        list_temps.append('error')\n",
    "        list_dates.append('error')\n",
    "        continue\n",
    "\n",
    "# insertamos la información\n",
    "df.insert(df.shape[1], 'temp_max', list_temps)\n",
    "df.insert(df.shape[1], 'fecha_max', list_dates)\n",
    "df"
   ]
  }
 ],
 "metadata": {
  "kernelspec": {
   "display_name": "Python 3",
   "language": "python",
   "name": "python3"
  },
  "language_info": {
   "codemirror_mode": {
    "name": "ipython",
    "version": 3
   },
   "file_extension": ".py",
   "mimetype": "text/x-python",
   "name": "python",
   "nbconvert_exporter": "python",
   "pygments_lexer": "ipython3",
   "version": "3.8.5"
  },
  "toc": {
   "base_numbering": 1,
   "nav_menu": {},
   "number_sections": false,
   "sideBar": true,
   "skip_h1_title": false,
   "title_cell": "Table of Contents",
   "title_sidebar": "Contents",
   "toc_cell": false,
   "toc_position": {
    "height": "100px",
    "left": "29px",
    "top": "118.2px",
    "width": "244.2px"
   },
   "toc_section_display": true,
   "toc_window_display": true
  }
 },
 "nbformat": 4,
 "nbformat_minor": 4
}
